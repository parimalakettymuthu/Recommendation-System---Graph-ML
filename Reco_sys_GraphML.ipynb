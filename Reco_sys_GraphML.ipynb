{
 "cells": [
  {
   "cell_type": "code",
   "execution_count": 1,
   "metadata": {},
   "outputs": [],
   "source": [
    "import networkx as nx\n",
    "\n",
    "#Creating a graph g\n",
    "G = nx.Graph()"
   ]
  },
  {
   "cell_type": "code",
   "execution_count": 4,
   "metadata": {},
   "outputs": [],
   "source": [
    "#Add nodes for the movies \n",
    "G.add_nodes_from([\"Movie 1\", \"Movie 2\", \"Movie 3\", \"Movie 4\"])\n",
    "\n",
    "#Add edges \n",
    "G.add_edge(\"Movie_1\", \"Movie_2\")\n",
    "G.add_edge(\"Movie 2\", \"Movie 3\")\n",
    "G.add_edge(\"Movie 3\", \"Movie 4\")"
   ]
  },
  {
   "cell_type": "code",
   "execution_count": 5,
   "metadata": {},
   "outputs": [],
   "source": [
    "pr = nx.pagerank(G)"
   ]
  },
  {
   "cell_type": "code",
   "execution_count": 6,
   "metadata": {},
   "outputs": [
    {
     "name": "stdout",
     "output_type": "stream",
     "text": [
      "Movie 3\n",
      "Movie_1\n",
      "Movie_2\n"
     ]
    }
   ],
   "source": [
    "sorted_movies = sorted(pr.items(), key=lambda x: x[1], reverse=True)\n",
    "\n",
    "#Print the top movie recommendations for the user \n",
    "for movie, score in sorted_movies[:3]:\n",
    "    print(movie)"
   ]
  },
  {
   "cell_type": "code",
   "execution_count": null,
   "metadata": {},
   "outputs": [],
   "source": [
    "G.add_nodes_from([\"User 1\", \"User 2\", \"User 3\"])\n",
    "\n",
    "#Add edges representing relationships between users and movies \n",
    "G.add_edge(\"User 1\", \"Movie 1\")\n",
    "G.add_edge(\"User 1\", \"Movie 2\")\n",
    "G.add_edge(\"User 2\", \"Movie 2\")\n",
    "G.add_edge(\"User 2\", \"Movie 3\")\n",
    "G.add_edge(\"User 3\", \"Movie 3\")\n",
    "G.add_edge(\"User 3\", \"Movie 4\")\n",
    "\n",
    "#Use graph algo to analyze relationships between users and movies \n",
    "similar_users = nx.common_neighbors(G, \"User 1\", \"User 2\")\n",
    "\n",
    "for movie in similar_users:\n",
    "    print(movie)"
   ]
  }
 ],
 "metadata": {
  "kernelspec": {
   "display_name": "Python 3",
   "language": "python",
   "name": "python3"
  },
  "language_info": {
   "codemirror_mode": {
    "name": "ipython",
    "version": 3
   },
   "file_extension": ".py",
   "mimetype": "text/x-python",
   "name": "python",
   "nbconvert_exporter": "python",
   "pygments_lexer": "ipython3",
   "version": "3.11.9"
  }
 },
 "nbformat": 4,
 "nbformat_minor": 2
}
